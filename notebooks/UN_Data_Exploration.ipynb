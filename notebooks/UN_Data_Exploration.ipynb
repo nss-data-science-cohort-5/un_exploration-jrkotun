{
 "cells": [
  {
   "cell_type": "markdown",
   "metadata": {},
   "source": [
    "# Data Question 1: An Exploration of UN data"
   ]
  },
  {
   "cell_type": "markdown",
   "metadata": {},
   "source": [
    "## Line Items 3 and 4\n",
    "Import the required packages with their customary aliases.<br>\n",
    "Use the %matplotlib inline magic command so that your plots show in the notebook without having to call plt.show() every time."
   ]
  },
  {
   "cell_type": "code",
   "execution_count": 1,
   "metadata": {},
   "outputs": [],
   "source": [
    "import pandas as pd\n",
    "import numpy as np\n",
    "import matplotlib.pyplot as plt\n",
    "import seaborn as sns\n",
    "\n",
    "%matplotlib inline"
   ]
  },
  {
   "cell_type": "markdown",
   "metadata": {},
   "source": [
    "## Line Item 5\n",
    "Using the pandas read_csv() function, read the GDP dataset into your notebook as a DataFrame called gdp_df.<br>\n",
    "Take a look at the first 10 rows.<br>\n",
    "Look at the last 5 rows. Do you see a problem?<br>\n",
    "Redo the read_csv() call to correct this issue - do not modify the original csv file."
   ]
  },
  {
   "cell_type": "code",
   "execution_count": 2,
   "metadata": {
    "scrolled": true
   },
   "outputs": [
    {
     "name": "stdout",
     "output_type": "stream",
     "text": [
      "  Country or Area  Year        Value  Value Footnotes\n",
      "0     Afghanistan  2019  2065.036398              NaN\n",
      "1     Afghanistan  2018  2033.779002              NaN\n",
      "2     Afghanistan  2017  2058.383832              NaN\n",
      "3     Afghanistan  2016  2057.062164              NaN\n",
      "4     Afghanistan  2015  2068.265904              NaN\n",
      "5     Afghanistan  2014  2102.385234              NaN\n",
      "6     Afghanistan  2013  2116.465454              NaN\n",
      "7     Afghanistan  2012  2075.491747              NaN\n",
      "8     Afghanistan  2011  1904.559799              NaN\n",
      "9     Afghanistan  2010  1957.029338              NaN\n",
      "     Country or Area                                      Year        Value  \\\n",
      "6865        Zimbabwe                                      1992  3054.889178   \n",
      "6866        Zimbabwe                                      1991  3426.598094   \n",
      "6867        Zimbabwe                                      1990  3324.348171   \n",
      "6868   footnoteSeqID                                  Footnote          NaN   \n",
      "6869               2  Excludes South Sudan after July 9, 2011.          NaN   \n",
      "\n",
      "      Value Footnotes  \n",
      "6865              NaN  \n",
      "6866              NaN  \n",
      "6867              NaN  \n",
      "6868              NaN  \n",
      "6869              NaN  \n"
     ]
    }
   ],
   "source": [
    "gdp_df = pd.read_csv('C:/Users/hjrko/Documents/NSS/Projects/un_exploration-jrkotun/data/gdp_per_capita.csv')\n",
    "print(gdp_df.head(10))\n",
    "print(gdp_df.tail())\n",
    "\n",
    "gdp_df = pd.read_csv('C:/Users/hjrko/Documents/NSS/Projects/un_exploration-jrkotun/data/gdp_per_capita.csv', skiprows=[6870, 6871])"
   ]
  },
  {
   "cell_type": "markdown",
   "metadata": {},
   "source": [
    "## Line Item 6\n",
    "Drop the 'Value Footnotes' column, and rename the remaining columns to ‘Country’, ‘Year’, and ‘GDP_Per_Capita’."
   ]
  },
  {
   "cell_type": "code",
   "execution_count": 3,
   "metadata": {
    "scrolled": false
   },
   "outputs": [
    {
     "name": "stdout",
     "output_type": "stream",
     "text": [
      "          Country  Year  GDP_Per_Capita\n",
      "0     Afghanistan  2019     2065.036398\n",
      "1     Afghanistan  2018     2033.779002\n",
      "2     Afghanistan  2017     2058.383832\n",
      "3     Afghanistan  2016     2057.062164\n",
      "4     Afghanistan  2015     2068.265904\n",
      "...           ...   ...             ...\n",
      "6863     Zimbabwe  1994     3263.934978\n",
      "6864     Zimbabwe  1993     3033.504852\n",
      "6865     Zimbabwe  1992     3054.889178\n",
      "6866     Zimbabwe  1991     3426.598094\n",
      "6867     Zimbabwe  1990     3324.348171\n",
      "\n",
      "[6868 rows x 3 columns]\n"
     ]
    }
   ],
   "source": [
    "gdp_df = gdp_df.drop(columns='Value Footnotes')\n",
    "gdp_df.columns = ['Country', 'Year', 'GDP_Per_Capita']\n",
    "print(gdp_df)"
   ]
  },
  {
   "cell_type": "markdown",
   "metadata": {},
   "source": [
    "## Line Item 7\n",
    "How many rows and columns does gdp_df have? 6868 rows and 3 columns <br>\n",
    "What are the data types of its columns? Country column has type object, Year column has type int64, and GDP_Per_Capita has type float64. <br>\n",
    "If any of the columns are not the expected types, figure out why and fix it. N/A"
   ]
  },
  {
   "cell_type": "code",
   "execution_count": 4,
   "metadata": {
    "scrolled": false
   },
   "outputs": [
    {
     "name": "stdout",
     "output_type": "stream",
     "text": [
      "<class 'pandas.core.frame.DataFrame'>\n",
      "RangeIndex: 6868 entries, 0 to 6867\n",
      "Data columns (total 3 columns):\n",
      " #   Column          Non-Null Count  Dtype  \n",
      "---  ------          --------------  -----  \n",
      " 0   Country         6868 non-null   object \n",
      " 1   Year            6868 non-null   int64  \n",
      " 2   GDP_Per_Capita  6868 non-null   float64\n",
      "dtypes: float64(1), int64(1), object(1)\n",
      "memory usage: 161.1+ KB\n"
     ]
    }
   ],
   "source": [
    "gdp_df.info()"
   ]
  },
  {
   "cell_type": "markdown",
   "metadata": {},
   "source": [
    "## Line Item 8\n",
    "Which years are represented in this dataset? 1990 through 2014 <br>\n",
    "Take a look at the number of observations per year. What do you notice? They have increased steadily over the years. This means over time more countries have reported their data."
   ]
  },
  {
   "cell_type": "code",
   "execution_count": 5,
   "metadata": {
    "scrolled": true
   },
   "outputs": [
    {
     "data": {
      "text/plain": [
       "2014    238\n",
       "2016    238\n",
       "2017    238\n",
       "2015    238\n",
       "2013    238\n",
       "2012    237\n",
       "2018    237\n",
       "2011    237\n",
       "2009    236\n",
       "2010    236\n",
       "2008    235\n",
       "2006    235\n",
       "2007    235\n",
       "2005    234\n",
       "2004    234\n",
       "2003    233\n",
       "2002    233\n",
       "2001    232\n",
       "2019    231\n",
       "2000    231\n",
       "1999    224\n",
       "1997    223\n",
       "1998    223\n",
       "1996    221\n",
       "1995    221\n",
       "1994    214\n",
       "1993    212\n",
       "1992    209\n",
       "1991    208\n",
       "1990    207\n",
       "Name: Year, dtype: int64"
      ]
     },
     "execution_count": 5,
     "metadata": {},
     "output_type": "execute_result"
    }
   ],
   "source": [
    "gdp_df['Year'].value_counts()"
   ]
  },
  {
   "cell_type": "markdown",
   "metadata": {},
   "source": [
    "## Line Item 9\n",
    "How many countries are represented in this dataset? 238 countries <br>\n",
    "Which countries are least represented in the dataset? Sint Maarten, Turks and Caicos, and Djibouti are the three least represented countries in this list. <br>\n",
    "Why do you think these countries have so few observations? Why do you think these countries have so few observations? Because they are countries that have only recently started reporting their data."
   ]
  },
  {
   "cell_type": "code",
   "execution_count": 6,
   "metadata": {
    "scrolled": false
   },
   "outputs": [
    {
     "data": {
      "text/plain": [
       "Austria                                         30\n",
       "Benin                                           30\n",
       "Sudan                                           30\n",
       "Chad                                            30\n",
       "Least developed countries: UN classification    30\n",
       "                                                ..\n",
       "Nauru                                           16\n",
       "Cayman Islands                                  13\n",
       "Sint Maarten (Dutch part)                       10\n",
       "Turks and Caicos Islands                         9\n",
       "Djibouti                                         7\n",
       "Name: Country, Length: 238, dtype: int64"
      ]
     },
     "execution_count": 6,
     "metadata": {},
     "output_type": "execute_result"
    }
   ],
   "source": [
    "gdp_df['Country'].value_counts()\n"
   ]
  },
  {
   "cell_type": "markdown",
   "metadata": {},
   "source": [
    "## Line Items 10 and 11\n",
    "Create a new dataframe by subsetting gdp_df to just the year 2014. Call this new dataframe gdp_2014.<br>\n",
    "Use .describe() to find the summary statistics for GDP per capita in 2014."
   ]
  },
  {
   "cell_type": "code",
   "execution_count": 7,
   "metadata": {},
   "outputs": [
    {
     "data": {
      "text/html": [
       "<div>\n",
       "<style scoped>\n",
       "    .dataframe tbody tr th:only-of-type {\n",
       "        vertical-align: middle;\n",
       "    }\n",
       "\n",
       "    .dataframe tbody tr th {\n",
       "        vertical-align: top;\n",
       "    }\n",
       "\n",
       "    .dataframe thead th {\n",
       "        text-align: right;\n",
       "    }\n",
       "</style>\n",
       "<table border=\"1\" class=\"dataframe\">\n",
       "  <thead>\n",
       "    <tr style=\"text-align: right;\">\n",
       "      <th></th>\n",
       "      <th>Year</th>\n",
       "      <th>GDP_Per_Capita</th>\n",
       "    </tr>\n",
       "  </thead>\n",
       "  <tbody>\n",
       "    <tr>\n",
       "      <th>count</th>\n",
       "      <td>238.0</td>\n",
       "      <td>238.000000</td>\n",
       "    </tr>\n",
       "    <tr>\n",
       "      <th>mean</th>\n",
       "      <td>2014.0</td>\n",
       "      <td>19766.710348</td>\n",
       "    </tr>\n",
       "    <tr>\n",
       "      <th>std</th>\n",
       "      <td>0.0</td>\n",
       "      <td>20983.869623</td>\n",
       "    </tr>\n",
       "    <tr>\n",
       "      <th>min</th>\n",
       "      <td>2014.0</td>\n",
       "      <td>822.610458</td>\n",
       "    </tr>\n",
       "    <tr>\n",
       "      <th>25%</th>\n",
       "      <td>2014.0</td>\n",
       "      <td>4753.110934</td>\n",
       "    </tr>\n",
       "    <tr>\n",
       "      <th>50%</th>\n",
       "      <td>2014.0</td>\n",
       "      <td>12209.385755</td>\n",
       "    </tr>\n",
       "    <tr>\n",
       "      <th>75%</th>\n",
       "      <td>2014.0</td>\n",
       "      <td>26803.610474</td>\n",
       "    </tr>\n",
       "    <tr>\n",
       "      <th>max</th>\n",
       "      <td>2014.0</td>\n",
       "      <td>156514.133850</td>\n",
       "    </tr>\n",
       "  </tbody>\n",
       "</table>\n",
       "</div>"
      ],
      "text/plain": [
       "         Year  GDP_Per_Capita\n",
       "count   238.0      238.000000\n",
       "mean   2014.0    19766.710348\n",
       "std       0.0    20983.869623\n",
       "min    2014.0      822.610458\n",
       "25%    2014.0     4753.110934\n",
       "50%    2014.0    12209.385755\n",
       "75%    2014.0    26803.610474\n",
       "max    2014.0   156514.133850"
      ]
     },
     "execution_count": 7,
     "metadata": {},
     "output_type": "execute_result"
    }
   ],
   "source": [
    "gdp_2014 = gdp_df[gdp_df['Year'] == 2014]\n",
    "gdp_2014.describe()"
   ]
  },
  {
   "cell_type": "markdown",
   "metadata": {},
   "source": [
    "## Line Item 12\n",
    "Create a histogram of GDP Per Capita numbers for 2014 (you may wish to adjust the number of bins for your histogram).<br>\n",
    "How would you describe the shape of the distribution? The historgram is right skewed and unimodal."
   ]
  },
  {
   "cell_type": "code",
   "execution_count": 8,
   "metadata": {
    "scrolled": true
   },
   "outputs": [
    {
     "data": {
      "text/plain": [
       "(array([105.,  57.,  25.,  17.,  17.,   9.,   3.,   1.,   1.,   1.,   1.,\n",
       "          0.,   0.,   0.,   1.]),\n",
       " array([   822.61045782,  11202.04535061,  21581.48024341,  31960.91513621,\n",
       "         42340.35002901,  52719.78492181,  63099.2198146 ,  73478.6547074 ,\n",
       "         83858.0896002 ,  94237.524493  , 104616.95938579, 114996.39427859,\n",
       "        125375.82917139, 135755.26406419, 146134.69895699, 156514.13384978]),\n",
       " <BarContainer object of 15 artists>)"
      ]
     },
     "execution_count": 8,
     "metadata": {},
     "output_type": "execute_result"
    },
    {
     "data": {
      "image/png": "[encoded data removed]",
      "text/plain": [
       "<Figure size 432x288 with 1 Axes>"
      ]
     },
     "metadata": {
      "needs_background": "light"
     },
     "output_type": "display_data"
    }
   ],
   "source": [
    "plt.hist(gdp_2014['GDP_Per_Capita'], bins=15)"
   ]
  },
  {
   "cell_type": "markdown",
   "metadata": {},
   "source": [
    "## Line Item 13\n",
    "Find the top 5 countries and bottom 5 countries by GDP per capita in 2014.<br>\n",
    "Top 5 countries are Bermuda, Singapore, Qatar, Luxembourg, and Macao SAR.\n",
    "Bottom 5 countries are Central African Republic, Burundi, Malawi, Dem. Rep. Congo, and Niger."
   ]
  },
  {
   "cell_type": "code",
   "execution_count": 9,
   "metadata": {},
   "outputs": [
    {
     "name": "stdout",
     "output_type": "stream",
     "text": [
      "Country\n",
      "Bermuda              77361.104881\n",
      "Singapore            87808.663157\n",
      "Qatar                95578.416973\n",
      "Luxembourg          108760.916030\n",
      "Macao SAR, China    156514.133850\n",
      "Name: GDP_Per_Capita, dtype: float64\n",
      "\n",
      "\n",
      "Country\n",
      "Central African Republic     822.610458\n",
      "Burundi                      886.235777\n",
      "Malawi                      1027.208496\n",
      "Dem. Rep. Congo             1029.790785\n",
      "Niger                       1127.615541\n",
      "Name: GDP_Per_Capita, dtype: float64\n"
     ]
    }
   ],
   "source": [
    "print(gdp_2014.set_index('Country')['GDP_Per_Capita'].sort_values().tail())\n",
    "print('\\n')\n",
    "print(gdp_2014.set_index('Country')['GDP_Per_Capita'].sort_values().head())"
   ]
  },
  {
   "cell_type": "markdown",
   "metadata": {},
   "source": [
    "## Line Item 14\n",
    "Now, return to the full dataset, gdp_df.<br>\n",
    "Pivot the data for 1990 and 2017 (using the pandas .pivot_table() method or another method) so that each row corresponds to a country, each column corresponds to a year, and the values in the table give the GDP_Per_Capita amount.<br>\n",
    "Drop any rows that are missing values for either 1990 or 2017.<br>\n",
    "Save the result to a dataframe named gdp_pivoted."
   ]
  },
  {
   "cell_type": "code",
   "execution_count": 10,
   "metadata": {},
   "outputs": [
    {
     "data": {
      "text/html": [
       "<div>\n",
       "<style scoped>\n",
       "    .dataframe tbody tr th:only-of-type {\n",
       "        vertical-align: middle;\n",
       "    }\n",
       "\n",
       "    .dataframe tbody tr th {\n",
       "        vertical-align: top;\n",
       "    }\n",
       "\n",
       "    .dataframe thead th {\n",
       "        text-align: right;\n",
       "    }\n",
       "</style>\n",
       "<table border=\"1\" class=\"dataframe\">\n",
       "  <thead>\n",
       "    <tr style=\"text-align: right;\">\n",
       "      <th>Year</th>\n",
       "      <th>1990</th>\n",
       "      <th>2017</th>\n",
       "    </tr>\n",
       "    <tr>\n",
       "      <th>Country</th>\n",
       "      <th></th>\n",
       "      <th></th>\n",
       "    </tr>\n",
       "  </thead>\n",
       "  <tbody>\n",
       "    <tr>\n",
       "      <th>Albania</th>\n",
       "      <td>4842.734635</td>\n",
       "      <td>12811.759436</td>\n",
       "    </tr>\n",
       "    <tr>\n",
       "      <th>Algeria</th>\n",
       "      <td>8746.352901</td>\n",
       "      <td>11737.409353</td>\n",
       "    </tr>\n",
       "    <tr>\n",
       "      <th>Angola</th>\n",
       "      <td>5783.429064</td>\n",
       "      <td>7310.901738</td>\n",
       "    </tr>\n",
       "    <tr>\n",
       "      <th>Antigua and Barbuda</th>\n",
       "      <td>15459.551675</td>\n",
       "      <td>19840.076123</td>\n",
       "    </tr>\n",
       "    <tr>\n",
       "      <th>Arab World</th>\n",
       "      <td>9694.667544</td>\n",
       "      <td>14555.474921</td>\n",
       "    </tr>\n",
       "    <tr>\n",
       "      <th>...</th>\n",
       "      <td>...</td>\n",
       "      <td>...</td>\n",
       "    </tr>\n",
       "    <tr>\n",
       "      <th>Vanuatu</th>\n",
       "      <td>2888.309393</td>\n",
       "      <td>3116.645194</td>\n",
       "    </tr>\n",
       "    <tr>\n",
       "      <th>Vietnam</th>\n",
       "      <td>1673.249634</td>\n",
       "      <td>7155.745829</td>\n",
       "    </tr>\n",
       "    <tr>\n",
       "      <th>World</th>\n",
       "      <td>9680.269697</td>\n",
       "      <td>16253.385518</td>\n",
       "    </tr>\n",
       "    <tr>\n",
       "      <th>Zambia</th>\n",
       "      <td>2190.182814</td>\n",
       "      <td>3485.005238</td>\n",
       "    </tr>\n",
       "    <tr>\n",
       "      <th>Zimbabwe</th>\n",
       "      <td>3324.348171</td>\n",
       "      <td>3028.245976</td>\n",
       "    </tr>\n",
       "  </tbody>\n",
       "</table>\n",
       "<p>207 rows × 2 columns</p>\n",
       "</div>"
      ],
      "text/plain": [
       "Year                         1990          2017\n",
       "Country                                        \n",
       "Albania               4842.734635  12811.759436\n",
       "Algeria               8746.352901  11737.409353\n",
       "Angola                5783.429064   7310.901738\n",
       "Antigua and Barbuda  15459.551675  19840.076123\n",
       "Arab World            9694.667544  14555.474921\n",
       "...                           ...           ...\n",
       "Vanuatu               2888.309393   3116.645194\n",
       "Vietnam               1673.249634   7155.745829\n",
       "World                 9680.269697  16253.385518\n",
       "Zambia                2190.182814   3485.005238\n",
       "Zimbabwe              3324.348171   3028.245976\n",
       "\n",
       "[207 rows x 2 columns]"
      ]
     },
     "execution_count": 10,
     "metadata": {},
     "output_type": "execute_result"
    }
   ],
   "source": [
    "subset = (gdp_df['Year'] == 2017) | (gdp_df['Year'] == 1990)\n",
    "gdp_pivoted = gdp_df[subset].pivot_table('GDP_Per_Capita', index='Country', columns='Year').dropna(0)\n",
    "gdp_pivoted"
   ]
  },
  {
   "cell_type": "markdown",
   "metadata": {},
   "source": [
    "## Line Item 15\n",
    "Create a new column in gdp_pivoted named Percent_Change.<br>\n",
    "This column should contain the percent change in GDP_Per_Capita from 1990 to 2017. Hint: Percent change is calculated as 100*(New Value - Old Value) / Old Value.<br>"
   ]
  },
  {
   "cell_type": "code",
   "execution_count": 11,
   "metadata": {},
   "outputs": [
    {
     "name": "stdout",
     "output_type": "stream",
     "text": [
      "Year                         1990          2017  Percent Change\n",
      "Country                                                        \n",
      "Albania               4842.734635  12811.759436        1.645563\n",
      "Algeria               8746.352901  11737.409353        0.341978\n",
      "Angola                5783.429064   7310.901738        0.264112\n",
      "Antigua and Barbuda  15459.551675  19840.076123        0.283354\n",
      "Arab World            9694.667544  14555.474921        0.501390\n",
      "...                           ...           ...             ...\n",
      "Vanuatu               2888.309393   3116.645194        0.079055\n",
      "Vietnam               1673.249634   7155.745829        3.276556\n",
      "World                 9680.269697  16253.385518        0.679022\n",
      "Zambia                2190.182814   3485.005238        0.591194\n",
      "Zimbabwe              3324.348171   3028.245976       -0.089071\n",
      "\n",
      "[207 rows x 3 columns]\n"
     ]
    }
   ],
   "source": [
    "gdp_pivoted['Percent Change'] = (gdp_pivoted.loc[:,2017] - gdp_pivoted.loc[:,1990]) / gdp_pivoted.loc[:,1990]\n",
    "print(gdp_pivoted)"
   ]
  },
  {
   "cell_type": "markdown",
   "metadata": {},
   "source": [
    "## Line Item 16\n",
    "How many countries experienced a negative percent change in GDP per capita from 1990 to 2017? 17 countries"
   ]
  },
  {
   "cell_type": "code",
   "execution_count": 19,
   "metadata": {},
   "outputs": [
    {
     "name": "stdout",
     "output_type": "stream",
     "text": [
      "Year                               1990          2017  Percent Change\n",
      "Country                                                              \n",
      "Brunei                     71230.862143  60995.681114       -0.143690\n",
      "Burundi                     1184.842440    773.571858       -0.347110\n",
      "Central African Republic    1201.677234    912.802052       -0.240393\n",
      "Comoros                     3061.360665   3032.254682       -0.009508\n",
      "Congo                       5115.210903   4274.296414       -0.164395\n",
      "Dem. Rep. Congo             1819.723315   1059.810775       -0.417598\n",
      "Gabon                      18179.265733  15006.764091       -0.174512\n",
      "Guinea-Bissau               1994.669656   1925.237737       -0.034809\n",
      "Haiti                       3229.618638   2980.960856       -0.076993\n",
      "Kyrgyz Republic             5158.317569   5046.691535       -0.021640\n",
      "Madagascar                  1853.051624   1584.422678       -0.144966\n",
      "Tajikistan                  3869.043636   3089.530208       -0.201474\n",
      "The Bahamas                38099.848616  36297.307023       -0.047311\n",
      "The Gambia                  2265.238219   2072.652450       -0.085018\n",
      "Ukraine                    15751.722440  11871.123624       -0.246360\n",
      "United Arab Emirates      111454.360446  67183.626557       -0.397210\n",
      "Zimbabwe                    3324.348171   3028.245976       -0.089071\n"
     ]
    }
   ],
   "source": [
    "print(gdp_pivoted[gdp_pivoted.loc[:,'Percent Change'] < 0])"
   ]
  },
  {
   "cell_type": "markdown",
   "metadata": {},
   "source": [
    "## Line Item 17\n",
    "Which country had the highest % change in GDP per capita?<br>\n",
    "Create a line plot showing this country's GDP per capita for all years from 1990 to 2017.<br>\n",
    "Answer: Equatorial Guinea had the highest % change in GDP per capita.\n",
    "\n",
    "Create another showing the country with the second highest % change in GDP. How do the trends in these countries compare?<br>\n",
    "Answer: Guinea's plot shows a steady rise in GDP per capita untilaround 2008 when it started to decrease. In comparison, China has been exponentially growing its GDP per capita with no decreases seen over the years.Both countries look like they started around 200 GDP per capita in 1990. Although they're trends have differed over the years, it seems they will be close to converging to roughly the same GDP per capita in the coming years.<br>\n",
    "\n",
    "Bonus: Put both line charts on the same plot."
   ]
  },
  {
   "cell_type": "code",
   "execution_count": 42,
   "metadata": {},
   "outputs": [
    {
     "data": {
      "text/plain": [
       "<AxesSubplot:xlabel='Year', ylabel='[Equatorial Guinea, China]'>"
      ]
     },
     "execution_count": 42,
     "metadata": {},
     "output_type": "execute_result"
    },
    {
     "data": {
      "image/png": "[encoded data removed]",
      "text/plain": [
       "<Figure size 432x288 with 1 Axes>"
      ]
     },
     "metadata": {
      "needs_background": "light"
     },
     "output_type": "display_data"
    }
   ],
   "source": [
    "gdp_sort = gdp_pivoted.sort_values(\"Percent Change\", ascending=False)\n",
    "highest = gdp_sort.iloc[0]\n",
    "second_highest = gdp_sort.iloc[1]\n",
    "\n",
    "ax = gdp_df.set_index('Country').loc['Equatorial Guinea'].plot(x='Year',y='GDP_Per_Capita')\n",
    "gdp_df.set_index('Country').loc['China'].plot(ax=ax, x='Year',y='GDP_Per_Capita')"
   ]
  },
  {
   "cell_type": "code",
   "execution_count": null,
   "metadata": {},
   "outputs": [],
   "source": []
  }
 ],
 "metadata": {
  "kernelspec": {
   "display_name": "Python 3",
   "language": "python",
   "name": "python3"
  },
  "language_info": {
   "codemirror_mode": {
    "name": "ipython",
    "version": 3
   },
   "file_extension": ".py",
   "mimetype": "text/x-python",
   "name": "python",
   "nbconvert_exporter": "python",
   "pygments_lexer": "ipython3",
   "version": "3.8.5"
  }
 },
 "nbformat": 4,
 "nbformat_minor": 4
}
