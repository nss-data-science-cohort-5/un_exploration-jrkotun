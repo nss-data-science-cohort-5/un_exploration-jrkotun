{
 "cells": [
  {
   "cell_type": "markdown",
   "metadata": {},
   "source": [
    "# Data Question 1: An Exploration of UN data\n",
    "Habeeb Kotun Jr.<br>\n",
    "September 16, 2021"
   ]
  },
  {
   "cell_type": "markdown",
   "metadata": {},
   "source": [
    "## Line Items 3 and 4\n",
    "Import the required packages with their customary aliases.<br>\n",
    "Use the %matplotlib inline magic command so that your plots show in the notebook without having to call plt.show() every time."
   ]
  },
  {
   "cell_type": "code",
   "execution_count": 1,
   "metadata": {},
   "outputs": [],
   "source": [
    "import pandas as pd\n",
    "import numpy as np\n",
    "import matplotlib.pyplot as plt\n",
    "import seaborn as sns\n",
    "\n",
    "%matplotlib inline"
   ]
  },
  {
   "cell_type": "markdown",
   "metadata": {},
   "source": [
    "## Line Item 5\n",
    "Using the pandas read_csv() function, read the GDP dataset into your notebook as a DataFrame called gdp_df.<br>\n",
    "Take a look at the first 10 rows.<br>\n",
    "Look at the last 5 rows. Do you see a problem?<br>\n",
    "Redo the read_csv() call to correct this issue - do not modify the original csv file."
   ]
  },
  {
   "cell_type": "code",
   "execution_count": 2,
   "metadata": {
    "scrolled": true
   },
   "outputs": [
    {
     "name": "stdout",
     "output_type": "stream",
     "text": [
      "  Country or Area  Year        Value  Value Footnotes\n",
      "0     Afghanistan  2019  2065.036398              NaN\n",
      "1     Afghanistan  2018  2033.779002              NaN\n",
      "2     Afghanistan  2017  2058.383832              NaN\n",
      "3     Afghanistan  2016  2057.062164              NaN\n",
      "4     Afghanistan  2015  2068.265904              NaN\n",
      "5     Afghanistan  2014  2102.385234              NaN\n",
      "6     Afghanistan  2013  2116.465454              NaN\n",
      "7     Afghanistan  2012  2075.491747              NaN\n",
      "8     Afghanistan  2011  1904.559799              NaN\n",
      "9     Afghanistan  2010  1957.029338              NaN\n",
      "     Country or Area                                      Year        Value  \\\n",
      "6865        Zimbabwe                                      1992  3054.889178   \n",
      "6866        Zimbabwe                                      1991  3426.598094   \n",
      "6867        Zimbabwe                                      1990  3324.348171   \n",
      "6868   footnoteSeqID                                  Footnote          NaN   \n",
      "6869               2  Excludes South Sudan after July 9, 2011.          NaN   \n",
      "\n",
      "      Value Footnotes  \n",
      "6865              NaN  \n",
      "6866              NaN  \n",
      "6867              NaN  \n",
      "6868              NaN  \n",
      "6869              NaN  \n"
     ]
    }
   ],
   "source": [
    "gdp_df = pd.read_csv('../data/gdp_per_capita.csv')\n",
    "print(gdp_df.head(10))\n",
    "print(gdp_df.tail())\n",
    "\n",
    "gdp_df = pd.read_csv('../data/gdp_per_capita.csv', skiprows=[6870, 6871])"
   ]
  },
  {
   "cell_type": "markdown",
   "metadata": {},
   "source": [
    "## Line Item 6\n",
    "Drop the 'Value Footnotes' column, and rename the remaining columns to ‘Country’, ‘Year’, and ‘GDP_Per_Capita’."
   ]
  },
  {
   "cell_type": "code",
   "execution_count": 3,
   "metadata": {
    "scrolled": false
   },
   "outputs": [
    {
     "name": "stdout",
     "output_type": "stream",
     "text": [
      "          Country  Year  GDP_Per_Capita\n",
      "0     Afghanistan  2019     2065.036398\n",
      "1     Afghanistan  2018     2033.779002\n",
      "2     Afghanistan  2017     2058.383832\n",
      "3     Afghanistan  2016     2057.062164\n",
      "4     Afghanistan  2015     2068.265904\n",
      "...           ...   ...             ...\n",
      "6863     Zimbabwe  1994     3263.934978\n",
      "6864     Zimbabwe  1993     3033.504852\n",
      "6865     Zimbabwe  1992     3054.889178\n",
      "6866     Zimbabwe  1991     3426.598094\n",
      "6867     Zimbabwe  1990     3324.348171\n",
      "\n",
      "[6868 rows x 3 columns]\n"
     ]
    }
   ],
   "source": [
    "gdp_df = gdp_df.drop(columns='Value Footnotes')\n",
    "gdp_df.columns = ['Country', 'Year', 'GDP_Per_Capita']\n",
    "print(gdp_df)"
   ]
  },
  {
   "cell_type": "markdown",
   "metadata": {},
   "source": [
    "## Line Item 7\n",
    "How many rows and columns does gdp_df have? 6868 rows and 3 columns <br>\n",
    "What are the data types of its columns? Country column has type object, Year column has type int64, and GDP_Per_Capita has type float64. <br>\n",
    "If any of the columns are not the expected types, figure out why and fix it. N/A"
   ]
  },
  {
   "cell_type": "code",
   "execution_count": 4,
   "metadata": {
    "scrolled": false
   },
   "outputs": [
    {
     "name": "stdout",
     "output_type": "stream",
     "text": [
      "<class 'pandas.core.frame.DataFrame'>\n",
      "RangeIndex: 6868 entries, 0 to 6867\n",
      "Data columns (total 3 columns):\n",
      " #   Column          Non-Null Count  Dtype  \n",
      "---  ------          --------------  -----  \n",
      " 0   Country         6868 non-null   object \n",
      " 1   Year            6868 non-null   int64  \n",
      " 2   GDP_Per_Capita  6868 non-null   float64\n",
      "dtypes: float64(1), int64(1), object(1)\n",
      "memory usage: 161.1+ KB\n"
     ]
    }
   ],
   "source": [
    "gdp_df.info()"
   ]
  },
  {
   "cell_type": "markdown",
   "metadata": {},
   "source": [
    "## Line Item 8\n",
    "Which years are represented in this dataset? 1990 through 2014 <br>\n",
    "Take a look at the number of observations per year. What do you notice? They have increased steadily over the years. This means over time more countries have reported their data."
   ]
  },
  {
   "cell_type": "code",
   "execution_count": 5,
   "metadata": {
    "scrolled": true
   },
   "outputs": [
    {
     "data": {
      "text/plain": [
       "2014    238\n",
       "2016    238\n",
       "2017    238\n",
       "2015    238\n",
       "2013    238\n",
       "2012    237\n",
       "2018    237\n",
       "2011    237\n",
       "2009    236\n",
       "2010    236\n",
       "2008    235\n",
       "2006    235\n",
       "2007    235\n",
       "2005    234\n",
       "2004    234\n",
       "2003    233\n",
       "2002    233\n",
       "2001    232\n",
       "2019    231\n",
       "2000    231\n",
       "1999    224\n",
       "1997    223\n",
       "1998    223\n",
       "1996    221\n",
       "1995    221\n",
       "1994    214\n",
       "1993    212\n",
       "1992    209\n",
       "1991    208\n",
       "1990    207\n",
       "Name: Year, dtype: int64"
      ]
     },
     "execution_count": 5,
     "metadata": {},
     "output_type": "execute_result"
    }
   ],
   "source": [
    "gdp_df['Year'].value_counts()"
   ]
  },
  {
   "cell_type": "markdown",
   "metadata": {},
   "source": [
    "## Line Item 9\n",
    "How many countries are represented in this dataset? 238 countries <br>\n",
    "Which countries are least represented in the dataset? Sint Maarten, Turks and Caicos, and Djibouti are the three least represented countries in this list. <br>\n",
    "Why do you think these countries have so few observations? Why do you think these countries have so few observations? Because they are countries that have only recently started reporting their data."
   ]
  },
  {
   "cell_type": "code",
   "execution_count": 6,
   "metadata": {
    "scrolled": false
   },
   "outputs": [
    {
     "data": {
      "text/plain": [
       "Europe & Central Asia (IDA & IBRD)              30\n",
       "Pacific island small states                     30\n",
       "Late-demographic dividend                       30\n",
       "Least developed countries: UN classification    30\n",
       "East Asia & Pacific (IDA & IBRD)                30\n",
       "                                                ..\n",
       "Nauru                                           16\n",
       "Cayman Islands                                  13\n",
       "Sint Maarten (Dutch part)                       10\n",
       "Turks and Caicos Islands                         9\n",
       "Djibouti                                         7\n",
       "Name: Country, Length: 238, dtype: int64"
      ]
     },
     "execution_count": 6,
     "metadata": {},
     "output_type": "execute_result"
    }
   ],
   "source": [
    "gdp_df['Country'].value_counts()\n"
   ]
  },
  {
   "cell_type": "markdown",
   "metadata": {},
   "source": [
    "## Line Items 10 and 11\n",
    "Create a new dataframe by subsetting gdp_df to just the year 2014. Call this new dataframe gdp_2014.<br>\n",
    "Use .describe() to find the summary statistics for GDP per capita in 2014."
   ]
  },
  {
   "cell_type": "code",
   "execution_count": 7,
   "metadata": {},
   "outputs": [
    {
     "data": {
      "text/html": [
       "<div>\n",
       "<style scoped>\n",
       "    .dataframe tbody tr th:only-of-type {\n",
       "        vertical-align: middle;\n",
       "    }\n",
       "\n",
       "    .dataframe tbody tr th {\n",
       "        vertical-align: top;\n",
       "    }\n",
       "\n",
       "    .dataframe thead th {\n",
       "        text-align: right;\n",
       "    }\n",
       "</style>\n",
       "<table border=\"1\" class=\"dataframe\">\n",
       "  <thead>\n",
       "    <tr style=\"text-align: right;\">\n",
       "      <th></th>\n",
       "      <th>Year</th>\n",
       "      <th>GDP_Per_Capita</th>\n",
       "    </tr>\n",
       "  </thead>\n",
       "  <tbody>\n",
       "    <tr>\n",
       "      <th>count</th>\n",
       "      <td>238.0</td>\n",
       "      <td>238.000000</td>\n",
       "    </tr>\n",
       "    <tr>\n",
       "      <th>mean</th>\n",
       "      <td>2014.0</td>\n",
       "      <td>19766.710348</td>\n",
       "    </tr>\n",
       "    <tr>\n",
       "      <th>std</th>\n",
       "      <td>0.0</td>\n",
       "      <td>20983.869623</td>\n",
       "    </tr>\n",
       "    <tr>\n",
       "      <th>min</th>\n",
       "      <td>2014.0</td>\n",
       "      <td>822.610458</td>\n",
       "    </tr>\n",
       "    <tr>\n",
       "      <th>25%</th>\n",
       "      <td>2014.0</td>\n",
       "      <td>4753.110934</td>\n",
       "    </tr>\n",
       "    <tr>\n",
       "      <th>50%</th>\n",
       "      <td>2014.0</td>\n",
       "      <td>12209.385755</td>\n",
       "    </tr>\n",
       "    <tr>\n",
       "      <th>75%</th>\n",
       "      <td>2014.0</td>\n",
       "      <td>26803.610474</td>\n",
       "    </tr>\n",
       "    <tr>\n",
       "      <th>max</th>\n",
       "      <td>2014.0</td>\n",
       "      <td>156514.133850</td>\n",
       "    </tr>\n",
       "  </tbody>\n",
       "</table>\n",
       "</div>"
      ],
      "text/plain": [
       "         Year  GDP_Per_Capita\n",
       "count   238.0      238.000000\n",
       "mean   2014.0    19766.710348\n",
       "std       0.0    20983.869623\n",
       "min    2014.0      822.610458\n",
       "25%    2014.0     4753.110934\n",
       "50%    2014.0    12209.385755\n",
       "75%    2014.0    26803.610474\n",
       "max    2014.0   156514.133850"
      ]
     },
     "execution_count": 7,
     "metadata": {},
     "output_type": "execute_result"
    }
   ],
   "source": [
    "gdp_2014 = gdp_df[gdp_df['Year'] == 2014]\n",
    "gdp_2014.describe()"
   ]
  },
  {
   "cell_type": "markdown",
   "metadata": {},
   "source": [
    "## Line Item 12\n",
    "Create a histogram of GDP Per Capita numbers for 2014 (you may wish to adjust the number of bins for your histogram).<br>\n",
    "How would you describe the shape of the distribution? The historgram is right skewed and unimodal."
   ]
  },
  {
   "cell_type": "code",
   "execution_count": 8,
   "metadata": {
    "scrolled": true
   },
   "outputs": [
    {
     "data": {
      "image/png": "[encoded data removed]",
      "text/plain": [
       "<Figure size 432x288 with 1 Axes>"
      ]
     },
     "metadata": {
      "needs_background": "light"
     },
     "output_type": "display_data"
    }
   ],
   "source": [
    "plt.hist(gdp_2014['GDP_Per_Capita'], bins=15);"
   ]
  },
  {
   "cell_type": "markdown",
   "metadata": {},
   "source": [
    "## Line Item 13\n",
    "Find the top 5 countries and bottom 5 countries by GDP per capita in 2014.<br>\n",
    "Top 5 countries are Bermuda, Singapore, Qatar, Luxembourg, and Macao SAR.\n",
    "Bottom 5 countries are Central African Republic, Burundi, Malawi, Dem. Rep. Congo, and Niger."
   ]
  },
  {
   "cell_type": "code",
   "execution_count": 9,
   "metadata": {},
   "outputs": [
    {
     "name": "stdout",
     "output_type": "stream",
     "text": [
      "Country\n",
      "Bermuda              77361.104881\n",
      "Singapore            87808.663157\n",
      "Qatar                95578.416973\n",
      "Luxembourg          108760.916030\n",
      "Macao SAR, China    156514.133850\n",
      "Name: GDP_Per_Capita, dtype: float64\n",
      "\n",
      "\n",
      "Country\n",
      "Central African Republic     822.610458\n",
      "Burundi                      886.235777\n",
      "Malawi                      1027.208496\n",
      "Dem. Rep. Congo             1029.790785\n",
      "Niger                       1127.615541\n",
      "Name: GDP_Per_Capita, dtype: float64\n"
     ]
    }
   ],
   "source": [
    "print(gdp_2014.set_index('Country')['GDP_Per_Capita'].sort_values().tail())\n",
    "print('\\n')\n",
    "print(gdp_2014.set_index('Country')['GDP_Per_Capita'].sort_values().head())"
   ]
  },
  {
   "cell_type": "markdown",
   "metadata": {},
   "source": [
    "## Line Item 14\n",
    "Now, return to the full dataset, gdp_df.<br>\n",
    "Pivot the data for 1990 and 2017 (using the pandas .pivot_table() method or another method) so that each row corresponds to a country, each column corresponds to a year, and the values in the table give the GDP_Per_Capita amount.<br>\n",
    "Drop any rows that are missing values for either 1990 or 2017.<br>\n",
    "Save the result to a dataframe named gdp_pivoted."
   ]
  },
  {
   "cell_type": "code",
   "execution_count": 10,
   "metadata": {},
   "outputs": [],
   "source": [
    "subset = (gdp_df['Year'] == 2017) | (gdp_df['Year'] == 1990)\n",
    "gdp_pivoted = gdp_df[subset].pivot_table('GDP_Per_Capita', index='Country', columns='Year').dropna(0)"
   ]
  },
  {
   "cell_type": "markdown",
   "metadata": {},
   "source": [
    "## Line Item 15\n",
    "Create a new column in gdp_pivoted named Percent_Change.<br>\n",
    "This column should contain the percent change in GDP_Per_Capita from 1990 to 2017. Hint: Percent change is calculated as 100*(New Value - Old Value) / Old Value.<br>"
   ]
  },
  {
   "cell_type": "code",
   "execution_count": 11,
   "metadata": {},
   "outputs": [
    {
     "name": "stdout",
     "output_type": "stream",
     "text": [
      "Year                         1990          2017  Percent Change\n",
      "Country                                                        \n",
      "Albania               4842.734635  12811.759436        1.645563\n",
      "Algeria               8746.352901  11737.409353        0.341978\n",
      "Angola                5783.429064   7310.901738        0.264112\n",
      "Antigua and Barbuda  15459.551675  19840.076123        0.283354\n",
      "Arab World            9694.667544  14555.474921        0.501390\n",
      "...                           ...           ...             ...\n",
      "Vanuatu               2888.309393   3116.645194        0.079055\n",
      "Vietnam               1673.249634   7155.745829        3.276556\n",
      "World                 9680.269697  16253.385518        0.679022\n",
      "Zambia                2190.182814   3485.005238        0.591194\n",
      "Zimbabwe              3324.348171   3028.245976       -0.089071\n",
      "\n",
      "[207 rows x 3 columns]\n"
     ]
    }
   ],
   "source": [
    "gdp_pivoted['Percent Change'] = (gdp_pivoted.loc[:,2017] - gdp_pivoted.loc[:,1990]) / gdp_pivoted.loc[:,1990]\n",
    "print(gdp_pivoted)"
   ]
  },
  {
   "cell_type": "markdown",
   "metadata": {},
   "source": [
    "## Line Item 16\n",
    "How many countries experienced a negative percent change in GDP per capita from 1990 to 2017? 17 countries"
   ]
  },
  {
   "cell_type": "code",
   "execution_count": 12,
   "metadata": {},
   "outputs": [
    {
     "name": "stdout",
     "output_type": "stream",
     "text": [
      "Year\n",
      "1990              17\n",
      "2017              17\n",
      "Percent Change    17\n",
      "dtype: int64\n"
     ]
    }
   ],
   "source": [
    "print(gdp_pivoted[gdp_pivoted.loc[:,'Percent Change'] < 0].count())"
   ]
  },
  {
   "cell_type": "markdown",
   "metadata": {},
   "source": [
    "## Line Item 17\n",
    "Which country had the highest % change in GDP per capita?<br>\n",
    "Create a line plot showing this country's GDP per capita for all years from 1990 to 2017.<br>\n",
    "Answer: Equatorial Guinea had the highest % change in GDP per capita.\n",
    "\n",
    "Create another showing the country with the second highest % change in GDP. How do the trends in these countries compare?<br>\n",
    "Answer: Guinea's plot shows a steady rise in GDP per capita until around 2008 when it started to decrease. In comparison, China has been exponentially growing its GDP per capita with no decreases seen over the years.Both countries look like they started around 200 GDP per capita in 1990. Although they're trends have differed over the years, it seems they will be close to converging to roughly the same GDP per capita in the coming years.<br>\n",
    "\n",
    "Bonus: Put both line charts on the same plot."
   ]
  },
  {
   "cell_type": "code",
   "execution_count": 13,
   "metadata": {},
   "outputs": [
    {
     "name": "stdout",
     "output_type": "stream",
     "text": [
      "Country with the highest % change in GDP per capita: Equatorial Guinea\n",
      "Country with the second highest % change in GDP per capita: China\n"
     ]
    }
   ],
   "source": [
    "gdp_sort = gdp_pivoted.sort_values(\"Percent Change\", ascending=False)\n",
    "highest = gdp_sort.iloc[0]\n",
    "second_highest = gdp_sort.iloc[1]\n",
    "print(\"Country with the highest % change in GDP per capita: \" + highest.name)\n",
    "print(\"Country with the second highest % change in GDP per capita: \" + second_highest.name)"
   ]
  },
  {
   "cell_type": "code",
   "execution_count": 14,
   "metadata": {},
   "outputs": [
    {
     "data": {
      "image/png": "[encoded data removed]",
      "text/plain": [
       "<Figure size 432x288 with 1 Axes>"
      ]
     },
     "metadata": {
      "needs_background": "light"
     },
     "output_type": "display_data"
    }
   ],
   "source": [
    "guinea_1990_2017 = gdp_df.set_index('Country').loc['Equatorial Guinea']\n",
    "china_1990_2017 = gdp_df.set_index('Country').loc['China']\n",
    "\n",
    "ax = guinea_1990_2017[(guinea_1990_2017['Year'] <= 2017)].plot(x='Year',y='GDP_Per_Capita')\n",
    "china_1990_2017[(china_1990_2017['Year'] <= 2017)].plot(ax=ax, x='Year',y='GDP_Per_Capita', title='GDP per Capita for Equatorial Guinea and China from 1990-2017')\n",
    "ax.legend(['Equatorial Guinea','China']);"
   ]
  },
  {
   "cell_type": "markdown",
   "metadata": {},
   "source": [
    "## Line Item 18\n",
    "Read in continents.csv contained in the data folder into a new dataframe called continents."
   ]
  },
  {
   "cell_type": "code",
   "execution_count": 15,
   "metadata": {},
   "outputs": [],
   "source": [
    "continents = pd.read_csv('../data/continents.csv')"
   ]
  },
  {
   "cell_type": "markdown",
   "metadata": {},
   "source": [
    "## Line Item 19\n",
    "Merge gdp_df and continents. Keep only the countries that appear in both data frames. Save the result back to gdp_df."
   ]
  },
  {
   "cell_type": "code",
   "execution_count": 16,
   "metadata": {},
   "outputs": [],
   "source": [
    "gdp_df = pd.merge(right=gdp_df, left=continents, how='inner')"
   ]
  },
  {
   "cell_type": "markdown",
   "metadata": {},
   "source": [
    "## Line Item 20\n",
    "Determine the number of countries per continent. Create a bar chart showing this."
   ]
  },
  {
   "cell_type": "code",
   "execution_count": 17,
   "metadata": {},
   "outputs": [
    {
     "data": {
      "image/png": "[encoded data removed]",
      "text/plain": [
       "<Figure size 432x288 with 1 Axes>"
      ]
     },
     "metadata": {
      "needs_background": "light"
     },
     "output_type": "display_data"
    }
   ],
   "source": [
    "gdp_df.groupby('Continent')['Country'].nunique().plot(kind='bar', rot=45, ylabel='# of countries');"
   ]
  },
  {
   "cell_type": "markdown",
   "metadata": {},
   "source": [
    "## Line Item 21\n",
    "Create a seaborn boxplot showing GDP per capita in 2014 split out by continent.<br>\n",
    "What do you notice?<br>\n",
    "Answer: Europe had the highest median GDP_Per_Capita in 2014 than any other continent and Africa had the lowest.<br>\n",
    "Africa's overall IQR is very small meaning a majority of the data doesn't deviate to far from the already low median.<br>\n",
    "Asia has the most extreme outliers with one reaching close to 160000. Even with this extreme outlier, the median GDP and IQR are much lower. This shows that Asia had the biggest wealth gap within it's continent in 2014.<br>\n",
    "South America has no outliers outside of its whiskers. In addition, the IQR and whisker lengths are relatively small. One can conclude that this means the countries within South America had a relatively close GDP per capita in 2014."
   ]
  },
  {
   "cell_type": "code",
   "execution_count": 18,
   "metadata": {},
   "outputs": [
    {
     "data": {
      "image/png": "[encoded data removed]",
      "text/plain": [
       "<Figure size 720x432 with 1 Axes>"
      ]
     },
     "metadata": {
      "needs_background": "light"
     },
     "output_type": "display_data"
    }
   ],
   "source": [
    "fig, ax = plt.subplots(figsize=(10, 6))\n",
    "sns.boxplot(x='Continent', y='GDP_Per_Capita', data=gdp_df[gdp_df['Year'] == 2014][['Continent', 'GDP_Per_Capita']], ax=ax);"
   ]
  },
  {
   "cell_type": "markdown",
   "metadata": {},
   "source": [
    "## Line Items 22 and 23\n",
    "Read in internet_use.csv into a DataFrame called `internet_df`. You will most likely get an error message when doing this - figure out what is going wrong and fix it. Take a look at the first and last five rows and make any corrections to your `read_csv()` call to fix this.\n",
    "\n",
    "Drop the Value Footnotes column and then rename the columns to ‘Country’, ‘Year’, and ‘Internet_Users_Pct’."
   ]
  },
  {
   "cell_type": "code",
   "execution_count": 19,
   "metadata": {},
   "outputs": [
    {
     "name": "stdout",
     "output_type": "stream",
     "text": [
      "<class 'pandas.core.frame.DataFrame'>\n",
      "RangeIndex: 4675 entries, 0 to 4674\n",
      "Data columns (total 3 columns):\n",
      " #   Column              Non-Null Count  Dtype  \n",
      "---  ------              --------------  -----  \n",
      " 0   Country             4675 non-null   object \n",
      " 1   Year                4675 non-null   object \n",
      " 2   Internet_Users_Pct  4495 non-null   float64\n",
      "dtypes: float64(1), object(2)\n",
      "memory usage: 109.7+ KB\n",
      "None\n"
     ]
    },
    {
     "name": "stderr",
     "output_type": "stream",
     "text": [
      "b'Skipping line 4675: expected 4 fields, saw 6\\n'\n"
     ]
    }
   ],
   "source": [
    "internet_df = pd.read_csv('../data/internet_use.csv', error_bad_lines=False)\n",
    "internet_df = internet_df.drop(columns='Value Footnotes')\n",
    "internet_df.columns = ['Country', 'Year', 'Internet_Users_Pct']\n",
    "print(internet_df.info())"
   ]
  },
  {
   "cell_type": "markdown",
   "metadata": {},
   "source": [
    "## Line Item 24\n",
    "How many rows and columns does this new dataset have?<br>\n",
    "Answer: 4675 rows and 3 columns\n",
    "What are the types of its columns?<br>\n",
    "Answer: Country column has type object, year column has type object, Internet_User_Pct has type float64.<br>\n",
    "Ensure that the `Internet_Users_Pct` column is a numeric data type and fix it if it is not."
   ]
  },
  {
   "cell_type": "markdown",
   "metadata": {},
   "source": [
    "## Line Item 25\n",
    "What is the first year that has a nonzero internet users percentage reported?<br>\n",
    "Answer:<br>\n",
    "What is the general trend in internet users percentage over the years? Pick a visualization that you think illustrates this trend well."
   ]
  }
 ],
 "metadata": {
  "kernelspec": {
   "display_name": "Python 3",
   "language": "python",
   "name": "python3"
  },
  "language_info": {
   "codemirror_mode": {
    "name": "ipython",
    "version": 3
   },
   "file_extension": ".py",
   "mimetype": "text/x-python",
   "name": "python",
   "nbconvert_exporter": "python",
   "pygments_lexer": "ipython3",
   "version": "3.8.5"
  }
 },
 "nbformat": 4,
 "nbformat_minor": 4
}
