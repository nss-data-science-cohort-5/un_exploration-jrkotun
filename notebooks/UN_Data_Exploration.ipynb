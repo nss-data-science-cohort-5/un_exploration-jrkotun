{
 "cells": [
  {
   "cell_type": "markdown",
   "metadata": {},
   "source": [
    "# Data Question 1: An Exploration of UN data\n",
    "Habeeb Kotun Jr.<br>\n",
    "September 16, 2021"
   ]
  },
  {
   "cell_type": "markdown",
   "metadata": {},
   "source": [
    "## Line Items 3 and 4\n",
    "Import the required packages with their customary aliases.<br>\n",
    "Use the %matplotlib inline magic command so that your plots show in the notebook without having to call plt.show() every time."
   ]
  },
  {
   "cell_type": "code",
   "execution_count": 1,
   "metadata": {},
   "outputs": [],
   "source": [
    "# Import libraries\n",
    "import pandas as pd\n",
    "import numpy as np\n",
    "import matplotlib.pyplot as plt\n",
    "import seaborn as sns\n",
    "import warnings\n",
    "\n",
    "%matplotlib inline\n",
    "\n",
    "# Ignore warnings throughout the code\n",
    "warnings.filterwarnings(\"ignore\")"
   ]
  },
  {
   "cell_type": "markdown",
   "metadata": {},
   "source": [
    "## Line Item 5\n",
    "Using the pandas read_csv() function, read the GDP dataset into your notebook as a DataFrame called gdp_df.<br>\n",
    "Take a look at the first 10 rows.<br>\n",
    "Look at the last 5 rows. Do you see a problem?<br>\n",
    "Redo the read_csv() call to correct this issue - do not modify the original csv file."
   ]
  },
  {
   "cell_type": "code",
   "execution_count": 2,
   "metadata": {
    "scrolled": true
   },
   "outputs": [
    {
     "name": "stdout",
     "output_type": "stream",
     "text": [
      "  Country or Area  Year        Value  Value Footnotes\n",
      "0     Afghanistan  2019  2065.036398              NaN\n",
      "1     Afghanistan  2018  2033.779002              NaN\n",
      "2     Afghanistan  2017  2058.383832              NaN\n",
      "3     Afghanistan  2016  2057.062164              NaN\n",
      "4     Afghanistan  2015  2068.265904              NaN\n",
      "5     Afghanistan  2014  2102.385234              NaN\n",
      "6     Afghanistan  2013  2116.465454              NaN\n",
      "7     Afghanistan  2012  2075.491747              NaN\n",
      "8     Afghanistan  2011  1904.559799              NaN\n",
      "9     Afghanistan  2010  1957.029338              NaN\n",
      "     Country or Area                                      Year        Value  \\\n",
      "6865        Zimbabwe                                      1992  3054.889178   \n",
      "6866        Zimbabwe                                      1991  3426.598094   \n",
      "6867        Zimbabwe                                      1990  3324.348171   \n",
      "6868   footnoteSeqID                                  Footnote          NaN   \n",
      "6869               2  Excludes South Sudan after July 9, 2011.          NaN   \n",
      "\n",
      "      Value Footnotes  \n",
      "6865              NaN  \n",
      "6866              NaN  \n",
      "6867              NaN  \n",
      "6868              NaN  \n",
      "6869              NaN  \n"
     ]
    }
   ],
   "source": [
    "# Read in gdp_per_capita.csv\n",
    "gdp_df = pd.read_csv('../data/gdp_per_capita.csv')\n",
    "print(gdp_df.head(10))\n",
    "print(gdp_df.tail())\n",
    "\n",
    "# Read in gdp_per_capita.csv and skip the last two rows\n",
    "gdp_df = pd.read_csv('../data/gdp_per_capita.csv', \n",
    "                     skiprows=[6870, 6871])"
   ]
  },
  {
   "cell_type": "markdown",
   "metadata": {},
   "source": [
    "## Line Item 6\n",
    "Drop the 'Value Footnotes' column, and rename the remaining columns to ‘Country’, ‘Year’, and ‘GDP_Per_Capita’."
   ]
  },
  {
   "cell_type": "code",
   "execution_count": 3,
   "metadata": {
    "scrolled": false
   },
   "outputs": [
    {
     "name": "stdout",
     "output_type": "stream",
     "text": [
      "          Country  Year  GDP_Per_Capita\n",
      "0     Afghanistan  2019     2065.036398\n",
      "1     Afghanistan  2018     2033.779002\n",
      "2     Afghanistan  2017     2058.383832\n",
      "3     Afghanistan  2016     2057.062164\n",
      "4     Afghanistan  2015     2068.265904\n",
      "...           ...   ...             ...\n",
      "6863     Zimbabwe  1994     3263.934978\n",
      "6864     Zimbabwe  1993     3033.504852\n",
      "6865     Zimbabwe  1992     3054.889178\n",
      "6866     Zimbabwe  1991     3426.598094\n",
      "6867     Zimbabwe  1990     3324.348171\n",
      "\n",
      "[6868 rows x 3 columns]\n"
     ]
    }
   ],
   "source": [
    "# Drop Value Footnotes column from gdp_df\n",
    "gdp_df = gdp_df.drop(columns='Value Footnotes')\n",
    "\n",
    "# Rename gdp_df columns\n",
    "gdp_df.columns = ['Country', 'Year', 'GDP_Per_Capita']\n",
    "print(gdp_df)"
   ]
  },
  {
   "cell_type": "markdown",
   "metadata": {},
   "source": [
    "## Line Item 7\n",
    "How many rows and columns does gdp_df have?<br>\n",
    "Answer: 6868 rows and 3 columns\n",
    "\n",
    "What are the data types of its columns?<br>\n",
    "Answer: Country column has type object, Year column has type int64, and GDP_Per_Capita has type float64.\n",
    "\n",
    "If any of the columns are not the expected types, figure out why and fix it. N/A"
   ]
  },
  {
   "cell_type": "code",
   "execution_count": 4,
   "metadata": {
    "scrolled": false
   },
   "outputs": [
    {
     "name": "stdout",
     "output_type": "stream",
     "text": [
      "<class 'pandas.core.frame.DataFrame'>\n",
      "RangeIndex: 6868 entries, 0 to 6867\n",
      "Data columns (total 3 columns):\n",
      " #   Column          Non-Null Count  Dtype  \n",
      "---  ------          --------------  -----  \n",
      " 0   Country         6868 non-null   object \n",
      " 1   Year            6868 non-null   int64  \n",
      " 2   GDP_Per_Capita  6868 non-null   float64\n",
      "dtypes: float64(1), int64(1), object(1)\n",
      "memory usage: 161.1+ KB\n"
     ]
    }
   ],
   "source": [
    "gdp_df.info()"
   ]
  },
  {
   "cell_type": "markdown",
   "metadata": {},
   "source": [
    "## Line Item 8\n",
    "Which years are represented in this dataset?<br>\n",
    "Answer: 1990 through 2019\n",
    "\n",
    "Take a look at the number of observations per year. What do you notice?<br>\n",
    "Answer: They have increased steadily over the years. This means over time more countries have reported their data. In 2018 the numbers start to decrease steadily."
   ]
  },
  {
   "cell_type": "code",
   "execution_count": 5,
   "metadata": {
    "scrolled": true
   },
   "outputs": [
    {
     "data": {
      "text/plain": [
       "1990    207\n",
       "1991    208\n",
       "1992    209\n",
       "1993    212\n",
       "1994    214\n",
       "1995    221\n",
       "1996    221\n",
       "1997    223\n",
       "1998    223\n",
       "1999    224\n",
       "2000    231\n",
       "2001    232\n",
       "2002    233\n",
       "2003    233\n",
       "2004    234\n",
       "2005    234\n",
       "2006    235\n",
       "2007    235\n",
       "2008    235\n",
       "2009    236\n",
       "2010    236\n",
       "2011    237\n",
       "2012    237\n",
       "2013    238\n",
       "2014    238\n",
       "2015    238\n",
       "2016    238\n",
       "2017    238\n",
       "2018    237\n",
       "2019    231\n",
       "Name: Year, dtype: int64"
      ]
     },
     "execution_count": 5,
     "metadata": {},
     "output_type": "execute_result"
    }
   ],
   "source": [
    "# Call value_counts() on the Year column in gdp_df\n",
    "gdp_df['Year'].value_counts().sort_index()"
   ]
  },
  {
   "cell_type": "markdown",
   "metadata": {},
   "source": [
    "## Line Item 9\n",
    "How many countries are represented in this dataset?<br>\n",
    "Answer: 238 countries\n",
    "\n",
    "Which countries are least represented in the dataset?<br>\n",
    "Answer: Sint Maarten, Turks and Caicos, and Djibouti are the three least represented countries in this list.\n",
    "\n",
    "Why do you think these countries have so few observations? Why do you think these countries have so few observations?<br>\n",
    "Answer: Because they are countries that have only recently started reporting their data."
   ]
  },
  {
   "cell_type": "code",
   "execution_count": 6,
   "metadata": {
    "scrolled": false
   },
   "outputs": [
    {
     "data": {
      "text/plain": [
       "Latin America & Caribbean (excluding high income)    30\n",
       "Mauritania                                           30\n",
       "Haiti                                                30\n",
       "Ukraine                                              30\n",
       "Russia                                               30\n",
       "                                                     ..\n",
       "Nauru                                                16\n",
       "Cayman Islands                                       13\n",
       "Sint Maarten (Dutch part)                            10\n",
       "Turks and Caicos Islands                              9\n",
       "Djibouti                                              7\n",
       "Name: Country, Length: 238, dtype: int64"
      ]
     },
     "execution_count": 6,
     "metadata": {},
     "output_type": "execute_result"
    }
   ],
   "source": [
    "# Call value_counts() on the Country column in gdp_df\n",
    "gdp_df['Country'].value_counts()"
   ]
  },
  {
   "cell_type": "markdown",
   "metadata": {},
   "source": [
    "## Line Items 10 and 11\n",
    "Create a new dataframe by subsetting gdp_df to just the year 2014. Call this new dataframe gdp_2014.<br>\n",
    "Use .describe() to find the summary statistics for GDP per capita in 2014."
   ]
  },
  {
   "cell_type": "code",
   "execution_count": 7,
   "metadata": {},
   "outputs": [
    {
     "data": {
      "text/html": [
       "<div>\n",
       "<style scoped>\n",
       "    .dataframe tbody tr th:only-of-type {\n",
       "        vertical-align: middle;\n",
       "    }\n",
       "\n",
       "    .dataframe tbody tr th {\n",
       "        vertical-align: top;\n",
       "    }\n",
       "\n",
       "    .dataframe thead th {\n",
       "        text-align: right;\n",
       "    }\n",
       "</style>\n",
       "<table border=\"1\" class=\"dataframe\">\n",
       "  <thead>\n",
       "    <tr style=\"text-align: right;\">\n",
       "      <th></th>\n",
       "      <th>Year</th>\n",
       "      <th>GDP_Per_Capita</th>\n",
       "    </tr>\n",
       "  </thead>\n",
       "  <tbody>\n",
       "    <tr>\n",
       "      <th>count</th>\n",
       "      <td>238.0</td>\n",
       "      <td>238.000000</td>\n",
       "    </tr>\n",
       "    <tr>\n",
       "      <th>mean</th>\n",
       "      <td>2014.0</td>\n",
       "      <td>19766.710348</td>\n",
       "    </tr>\n",
       "    <tr>\n",
       "      <th>std</th>\n",
       "      <td>0.0</td>\n",
       "      <td>20983.869623</td>\n",
       "    </tr>\n",
       "    <tr>\n",
       "      <th>min</th>\n",
       "      <td>2014.0</td>\n",
       "      <td>822.610458</td>\n",
       "    </tr>\n",
       "    <tr>\n",
       "      <th>25%</th>\n",
       "      <td>2014.0</td>\n",
       "      <td>4753.110934</td>\n",
       "    </tr>\n",
       "    <tr>\n",
       "      <th>50%</th>\n",
       "      <td>2014.0</td>\n",
       "      <td>12209.385755</td>\n",
       "    </tr>\n",
       "    <tr>\n",
       "      <th>75%</th>\n",
       "      <td>2014.0</td>\n",
       "      <td>26803.610474</td>\n",
       "    </tr>\n",
       "    <tr>\n",
       "      <th>max</th>\n",
       "      <td>2014.0</td>\n",
       "      <td>156514.133850</td>\n",
       "    </tr>\n",
       "  </tbody>\n",
       "</table>\n",
       "</div>"
      ],
      "text/plain": [
       "         Year  GDP_Per_Capita\n",
       "count   238.0      238.000000\n",
       "mean   2014.0    19766.710348\n",
       "std       0.0    20983.869623\n",
       "min    2014.0      822.610458\n",
       "25%    2014.0     4753.110934\n",
       "50%    2014.0    12209.385755\n",
       "75%    2014.0    26803.610474\n",
       "max    2014.0   156514.133850"
      ]
     },
     "execution_count": 7,
     "metadata": {},
     "output_type": "execute_result"
    }
   ],
   "source": [
    "# Extract 2014 data from gdp_df\n",
    "gdp_2014 = gdp_df[gdp_df['Year'] == 2014]\n",
    "gdp_2014.describe()"
   ]
  },
  {
   "cell_type": "markdown",
   "metadata": {},
   "source": [
    "## Line Item 12\n",
    "Create a histogram of GDP Per Capita numbers for 2014 (you may wish to adjust the number of bins for your histogram).<br>\n",
    "How would you describe the shape of the distribution?<br>\n",
    "Answer: The historgram is right skewed and unimodal."
   ]
  },
  {
   "cell_type": "code",
   "execution_count": 8,
   "metadata": {
    "scrolled": true
   },
   "outputs": [
    {
     "data": {
      "image/png": "[encoded data removed]",
      "text/plain": [
       "<Figure size 432x288 with 1 Axes>"
      ]
     },
     "metadata": {
      "needs_background": "light"
     },
     "output_type": "display_data"
    }
   ],
   "source": [
    "# Create a histogram of GDP per Capita for the 2014 data\n",
    "plt.hist(gdp_2014['GDP_Per_Capita'], bins=15);"
   ]
  },
  {
   "cell_type": "markdown",
   "metadata": {},
   "source": [
    "## Line Item 13\n",
    "Find the top 5 countries and bottom 5 countries by GDP per capita in 2014.<br>\n",
    "Answer: Top 5 countries are Bermuda, Singapore, Qatar, Luxembourg, and Macao SAR.<br>\n",
    "Bottom 5 countries are Central African Republic, Burundi, Malawi, Dem. Rep. Congo, and Niger."
   ]
  },
  {
   "cell_type": "code",
   "execution_count": 9,
   "metadata": {},
   "outputs": [
    {
     "name": "stdout",
     "output_type": "stream",
     "text": [
      "Country\n",
      "Bermuda              77361.104881\n",
      "Singapore            87808.663157\n",
      "Qatar                95578.416973\n",
      "Luxembourg          108760.916030\n",
      "Macao SAR, China    156514.133850\n",
      "Name: GDP_Per_Capita, dtype: float64\n",
      "\n",
      "\n",
      "Country\n",
      "Central African Republic     822.610458\n",
      "Burundi                      886.235777\n",
      "Malawi                      1027.208496\n",
      "Dem. Rep. Congo             1029.790785\n",
      "Niger                       1127.615541\n",
      "Name: GDP_Per_Capita, dtype: float64\n"
     ]
    }
   ],
   "source": [
    "# Print top 5 and bottom 5 countries by GDP\n",
    "print(gdp_2014.set_index('Country')['GDP_Per_Capita'].sort_values().tail())\n",
    "print('\\n')\n",
    "print(gdp_2014.set_index('Country')['GDP_Per_Capita'].sort_values().head())"
   ]
  },
  {
   "cell_type": "markdown",
   "metadata": {},
   "source": [
    "## Line Item 14\n",
    "Now, return to the full dataset, gdp_df.<br>\n",
    "Pivot the data for 1990 and 2017 (using the pandas .pivot_table() method or another method) so that each row corresponds to a country, each column corresponds to a year, and the values in the table give the GDP_Per_Capita amount.<br>\n",
    "Drop any rows that are missing values for either 1990 or 2017.<br>\n",
    "Save the result to a dataframe named gdp_pivoted."
   ]
  },
  {
   "cell_type": "code",
   "execution_count": 10,
   "metadata": {},
   "outputs": [],
   "source": [
    "# Filter data for 1990 and 2017\n",
    "subset = (gdp_df['Year'] == 2017) | (gdp_df['Year'] == 1990)\n",
    "\n",
    "# Pivot the data for 1990 and 2017 with Country on the rows and Year on the columns\n",
    "gdp_pivoted = gdp_df[subset].pivot_table('GDP_Per_Capita', \n",
    "                                         index='Country', \n",
    "                                         columns='Year').dropna(0)"
   ]
  },
  {
   "cell_type": "markdown",
   "metadata": {},
   "source": [
    "## Line Item 15\n",
    "Create a new column in gdp_pivoted named Percent_Change.<br>\n",
    "This column should contain the percent change in GDP_Per_Capita from 1990 to 2017. Hint: Percent change is calculated as 100*(New Value - Old Value) / Old Value.<br>"
   ]
  },
  {
   "cell_type": "code",
   "execution_count": 11,
   "metadata": {},
   "outputs": [
    {
     "name": "stdout",
     "output_type": "stream",
     "text": [
      "Year                         1990          2017  Percent Change\n",
      "Country                                                        \n",
      "Albania               4842.734635  12811.759436      164.556297\n",
      "Algeria               8746.352901  11737.409353       34.197756\n",
      "Angola                5783.429064   7310.901738       26.411194\n",
      "Antigua and Barbuda  15459.551675  19840.076123       28.335391\n",
      "Arab World            9694.667544  14555.474921       50.138980\n",
      "...                           ...           ...             ...\n",
      "Vanuatu               2888.309393   3116.645194        7.905517\n",
      "Vietnam               1673.249634   7155.745829      327.655604\n",
      "World                 9680.269697  16253.385518       67.902197\n",
      "Zambia                2190.182814   3485.005238       59.119377\n",
      "Zimbabwe              3324.348171   3028.245976       -8.907075\n",
      "\n",
      "[207 rows x 3 columns]\n"
     ]
    }
   ],
   "source": [
    "# Create a  column for Percent Change in the pivited dataset\n",
    "gdp_pivoted['Percent Change'] = 100* (gdp_pivoted.loc[:,2017] - gdp_pivoted.loc[:,1990]) / gdp_pivoted.loc[:,1990]\n",
    "print(gdp_pivoted)"
   ]
  },
  {
   "cell_type": "markdown",
   "metadata": {},
   "source": [
    "## Line Item 16\n",
    "How many countries experienced a negative percent change in GDP per capita from 1990 to 2017?<br>\n",
    "Answer: 17 countries"
   ]
  },
  {
   "cell_type": "code",
   "execution_count": 12,
   "metadata": {},
   "outputs": [
    {
     "data": {
      "text/plain": [
       "17"
      ]
     },
     "execution_count": 12,
     "metadata": {},
     "output_type": "execute_result"
    }
   ],
   "source": [
    "# Count number of countries in gdp_pivoted that had a negative percent change\n",
    "(gdp_pivoted['Percent Change'] < 0).sum()"
   ]
  },
  {
   "cell_type": "markdown",
   "metadata": {},
   "source": [
    "## Line Item 17\n",
    "Which country had the highest % change in GDP per capita?<br>\n",
    "Create a line plot showing this country's GDP per capita for all years from 1990 to 2017.<br>\n",
    "Answer: Equatorial Guinea had the highest % change in GDP per capita.\n",
    "\n",
    "Create another showing the country with the second highest % change in GDP. How do the trends in these countries compare?<br>\n",
    "Answer: Guinea's plot shows a steady rise in GDP per capita until around 2008 when it started to decrease. In comparison, China has been exponentially growing its GDP per capita with no decreases seen over the years.Both countries look like they started around 200 GDP per capita in 1990. Although they're trends have differed over the years, it seems they will be close to converging to roughly the same GDP per capita in the coming years.<br>\n",
    "\n",
    "Bonus: Put both line charts on the same plot."
   ]
  },
  {
   "cell_type": "code",
   "execution_count": 13,
   "metadata": {},
   "outputs": [
    {
     "data": {
      "text/html": [
       "<div>\n",
       "<style scoped>\n",
       "    .dataframe tbody tr th:only-of-type {\n",
       "        vertical-align: middle;\n",
       "    }\n",
       "\n",
       "    .dataframe tbody tr th {\n",
       "        vertical-align: top;\n",
       "    }\n",
       "\n",
       "    .dataframe thead th {\n",
       "        text-align: right;\n",
       "    }\n",
       "</style>\n",
       "<table border=\"1\" class=\"dataframe\">\n",
       "  <thead>\n",
       "    <tr style=\"text-align: right;\">\n",
       "      <th>Year</th>\n",
       "      <th>1990</th>\n",
       "      <th>2017</th>\n",
       "      <th>Percent Change</th>\n",
       "    </tr>\n",
       "    <tr>\n",
       "      <th>Country</th>\n",
       "      <th></th>\n",
       "      <th></th>\n",
       "      <th></th>\n",
       "    </tr>\n",
       "  </thead>\n",
       "  <tbody>\n",
       "    <tr>\n",
       "      <th>Equatorial Guinea</th>\n",
       "      <td>1039.985049</td>\n",
       "      <td>22551.083246</td>\n",
       "      <td>2068.404561</td>\n",
       "    </tr>\n",
       "    <tr>\n",
       "      <th>China</th>\n",
       "      <td>1423.896348</td>\n",
       "      <td>14344.421239</td>\n",
       "      <td>907.406281</td>\n",
       "    </tr>\n",
       "  </tbody>\n",
       "</table>\n",
       "</div>"
      ],
      "text/plain": [
       "Year                      1990          2017  Percent Change\n",
       "Country                                                     \n",
       "Equatorial Guinea  1039.985049  22551.083246     2068.404561\n",
       "China              1423.896348  14344.421239      907.406281"
      ]
     },
     "execution_count": 13,
     "metadata": {},
     "output_type": "execute_result"
    }
   ],
   "source": [
    "# Filter out the two countries with the highest Percent Change\n",
    "gdp_sort = gdp_pivoted.sort_values(\"Percent Change\", ascending=False).head(2)\n",
    "gdp_sort"
   ]
  },
  {
   "cell_type": "code",
   "execution_count": 14,
   "metadata": {},
   "outputs": [
    {
     "data": {
      "image/png": "[encoded data removed]",
      "text/plain": [
       "<Figure size 432x288 with 1 Axes>"
      ]
     },
     "metadata": {
      "needs_background": "light"
     },
     "output_type": "display_data"
    }
   ],
   "source": [
    "# Extract all Equatorial Guinea and China data from gdp_df\n",
    "guinea_1990_2017 = gdp_df.set_index('Country').loc['Equatorial Guinea']\n",
    "china_1990_2017 = gdp_df.set_index('Country').loc['China']\n",
    "\n",
    "# Graph GDP_Per_Capita for Equatorial Guinea and China from 1990-2017\n",
    "ax = guinea_1990_2017[(guinea_1990_2017['Year'] <= 2017)].plot(x='Year',\n",
    "                                                               y='GDP_Per_Capita')\n",
    "china_1990_2017[(china_1990_2017['Year'] <= 2017)].plot(ax=ax, \n",
    "                                                        x='Year',\n",
    "                                                        y='GDP_Per_Capita', \n",
    "                                                        title='GDP per Capita for Equatorial Guinea and China from 1990-2017')\n",
    "ax.legend(['Equatorial Guinea','China']);"
   ]
  },
  {
   "cell_type": "markdown",
   "metadata": {},
   "source": [
    "## Line Item 18\n",
    "Read in continents.csv contained in the data folder into a new dataframe called continents."
   ]
  },
  {
   "cell_type": "code",
   "execution_count": 15,
   "metadata": {},
   "outputs": [],
   "source": [
    "# Read in continents.csv\n",
    "continents = pd.read_csv('../data/continents.csv')"
   ]
  },
  {
   "cell_type": "markdown",
   "metadata": {},
   "source": [
    "## Line Item 19\n",
    "Merge gdp_df and continents. Keep only the countries that appear in both data frames. Save the result back to gdp_df."
   ]
  },
  {
   "cell_type": "code",
   "execution_count": 16,
   "metadata": {},
   "outputs": [],
   "source": [
    "# Inner join of gdp_df and continents dataframes\n",
    "gdp_df = pd.merge(right=gdp_df, left=continents, how='inner')"
   ]
  },
  {
   "cell_type": "markdown",
   "metadata": {},
   "source": [
    "## Line Item 20\n",
    "Determine the number of countries per continent. Create a bar chart showing this."
   ]
  },
  {
   "cell_type": "code",
   "execution_count": 17,
   "metadata": {},
   "outputs": [
    {
     "ename": "SyntaxError",
     "evalue": "invalid syntax (<ipython-input-17-c1490f6d7307>, line 7)",
     "output_type": "error",
     "traceback": [
      "\u001b[1;36m  File \u001b[1;32m\"<ipython-input-17-c1490f6d7307>\"\u001b[1;36m, line \u001b[1;32m7\u001b[0m\n\u001b[1;33m    .plot(kind='bar', rot=45, ylabel='# of countries');\u001b[0m\n\u001b[1;37m                                                      ^\u001b[0m\n\u001b[1;31mSyntaxError\u001b[0m\u001b[1;31m:\u001b[0m invalid syntax\n"
     ]
    }
   ],
   "source": [
    "# Graph bar plot showing the number of countries per continent\n",
    "(\n",
    "    gdp_df\n",
    "    .groupby('Continent')\n",
    "    ['Country']\n",
    "    .nunique()\n",
    "    .plot(kind='bar', rot=45, ylabel='# of countries');\n",
    ")"
   ]
  },
  {
   "cell_type": "markdown",
   "metadata": {},
   "source": [
    "## Line Item 21\n",
    "Create a seaborn boxplot showing GDP per capita in 2014 split out by continent.<br>\n",
    "What do you notice?<br>\n",
    "Answer: Europe had the highest median GDP_Per_Capita in 2014 than any other continent and Africa had the lowest.<br>\n",
    "Africa's overall IQR is very small meaning a majority of the data doesn't deviate to far from the already low median.<br>\n",
    "Asia has the most extreme outliers with one reaching close to 160000. Even with this extreme outlier, the median GDP and IQR are much lower. This shows that Asia had the biggest wealth gap within it's continent in 2014.<br>\n",
    "South America has no outliers outside of its whiskers. In addition, the IQR and whisker lengths are relatively small. One can conclude that this means the countries within South America had a relatively close GDP per capita in 2014."
   ]
  },
  {
   "cell_type": "code",
   "execution_count": null,
   "metadata": {},
   "outputs": [],
   "source": [
    "# Increasing plot size\n",
    "fig, ax = plt.subplots(figsize=(10, 6))\n",
    "\n",
    "# Create seaborn boxplot showing GDP per Capita in 2014 pre continent\n",
    "sns.boxplot(x='Continent', \n",
    "            y='GDP_Per_Capita', \n",
    "            data=gdp_df[gdp_df['Year'] == 2014], \n",
    "            ax=ax);"
   ]
  },
  {
   "cell_type": "markdown",
   "metadata": {},
   "source": [
    "## Line Items 22 and 23\n",
    "Read in internet_use.csv into a DataFrame called `internet_df`. You will most likely get an error message when doing this - figure out what is going wrong and fix it. Take a look at the first and last five rows and make any corrections to your `read_csv()` call to fix this.\n",
    "\n",
    "Drop the Value Footnotes column and then rename the columns to ‘Country’, ‘Year’, and ‘Internet_Users_Pct’."
   ]
  },
  {
   "cell_type": "code",
   "execution_count": null,
   "metadata": {},
   "outputs": [],
   "source": [
    "# Read in internet_use.csv\n",
    "internet_df = pd.read_csv('../data/internet_use.csv', error_bad_lines=False)\n",
    "\n",
    "# Drop Value Footnotes column from internet_df\n",
    "internet_df = internet_df.drop(columns='Value Footnotes').dropna(0)\n",
    "\n",
    "# Rename columns of internet_df\n",
    "internet_df.columns = ['Country', 'Year', 'Internet_Users_Pct']\n",
    "\n",
    "# Change Year column of internet_df from object type to int64\n",
    "internet_df['Year'] = internet_df['Year'].astype('int64')\n",
    "print(internet_df.info())"
   ]
  },
  {
   "cell_type": "markdown",
   "metadata": {},
   "source": [
    "## Line Item 24\n",
    "How many rows and columns does this new dataset have?<br>\n",
    "Answer: 4495 rows and 3 columns\n",
    "What are the types of its columns?<br>\n",
    "Answer: Country column has type object, year column has type object, Internet_User_Pct has type float64.<br>\n",
    "Ensure that the `Internet_Users_Pct` column is a numeric data type and fix it if it is not."
   ]
  },
  {
   "cell_type": "markdown",
   "metadata": {},
   "source": [
    "## Line Item 25\n",
    "What is the first year that has a nonzero internet users percentage reported?<br>\n",
    "Answer: 1990<br>\n",
    "What is the general trend in internet users percentage over the years? Pick a visualization that you think illustrates this trend well."
   ]
  },
  {
   "cell_type": "code",
   "execution_count": null,
   "metadata": {
    "scrolled": true
   },
   "outputs": [],
   "source": [
    "# Determine the first year that has a nonzero internet users %\n",
    "print(internet_df[internet_df['Internet_Users_Pct'] > 0]['Year'].min())"
   ]
  },
  {
   "cell_type": "code",
   "execution_count": null,
   "metadata": {},
   "outputs": [],
   "source": [
    "# Graph general trend in internet users percentage over the years\n",
    "internet_df.groupby('Year').agg('mean').plot();"
   ]
  },
  {
   "cell_type": "markdown",
   "metadata": {},
   "source": [
    "## Line Item 26\n",
    "Merge `gdp_df` and `internet_df` (on Country and Year) into a single DataFrame named `gdp_and_internet_use`. Keep only countries and years that appear in both tables.  "
   ]
  },
  {
   "cell_type": "code",
   "execution_count": null,
   "metadata": {},
   "outputs": [],
   "source": [
    "# Merge gdf_df and internet_df\n",
    "gdp_and_internet_use = pd.merge(gdp_df, internet_df, how=\"inner\", on=['Country','Year'])"
   ]
  },
  {
   "cell_type": "markdown",
   "metadata": {},
   "source": [
    "## Line Item 27\n",
    "Look at the first five rows of your new data frame to confirm it merged correctly. Also, check the last five rows to make sure the data is clean and as expected."
   ]
  },
  {
   "cell_type": "code",
   "execution_count": null,
   "metadata": {},
   "outputs": [],
   "source": [
    "# Print head and tail of internet_df\n",
    "print(gdp_and_internet_use.head())\n",
    "print(gdp_and_internet_use.tail())"
   ]
  },
  {
   "cell_type": "markdown",
   "metadata": {},
   "source": [
    "## Line Item 28\n",
    "Create a new DataFrame, named `gdp_and_internet_use_2014` by extracting data for the year 2014 from `gdp_and_internet_use`.<br> How many countries have at least 90% internet users in 2014? 13 countries"
   ]
  },
  {
   "cell_type": "code",
   "execution_count": null,
   "metadata": {
    "scrolled": true
   },
   "outputs": [],
   "source": [
    "# Extract 2014 data from gdp_and_internet_use\n",
    "gdp_and_internet_use_2014 = gdp_and_internet_use[gdp_and_internet_use['Year'] == 2014]\n",
    "\n",
    "# Extract Countries with at least 90% internet users from gdp_and_internet_use_2014\n",
    "print(gdp_and_internet_use_2014[gdp_and_internet_use['Internet_Users_Pct'] >= 90].shape)"
   ]
  },
  {
   "cell_type": "markdown",
   "metadata": {},
   "source": [
    "## Line Item 29\n",
    "Find the countries that had the top 3 largest GDP per capita figures for 2014.<br>\n",
    "Answer: Luxembourg, Qatar, and Singapore\n",
    "\n",
    "Create a seaborn FacetGrid showing the change in internet user percentage over time for these three countries. Each individual figure in the facet grid will represent a single country.  What trends do you notice?<br>\n",
    "Answer: The Internet User % for these countries has been steadily increasing over time."
   ]
  },
  {
   "cell_type": "code",
   "execution_count": null,
   "metadata": {
    "scrolled": true
   },
   "outputs": [],
   "source": [
    "# Extract the 3 highest countries by GDP_Per_Capita from gdp_and_internet_use_2014\n",
    "gdp_and_internet_use_2014_top3_gdp = gdp_and_internet_use_2014.sort_values('GDP_Per_Capita', ascending = False).head(3)\n",
    "print(gdp_and_internet_use_2014_top3_gdp)\n",
    "\n",
    "# Graph the Internet User % for Luxembourg, Qatar, and Singaapore\n",
    "graph = sns.FacetGrid(gdp_and_internet_use.set_index('Country').loc[['Luxembourg', 'Qatar', 'Singapore']].reset_index(),\n",
    "                      col='Country')\n",
    "graph.map(sns.lineplot, 'Year', 'Internet_Users_Pct')"
   ]
  },
  {
   "cell_type": "markdown",
   "metadata": {},
   "source": [
    "## Line Item 30\n",
    " Create a scatter plot of Internet Use vs GDP per Capita for the year 2014. What do you notice?<br>\n",
    " Answer: There appears to be a positive correlation between Internet Use % and GDP Per Capita in 2014, meaning that in 2014 the higher a country's GDP per Capita the higher that country's Internet Use Percentage."
   ]
  },
  {
   "cell_type": "code",
   "execution_count": null,
   "metadata": {},
   "outputs": [],
   "source": [
    "# Create a scatterplot of Internet Use vs GDP per Capita\n",
    "plt.scatter(y=gdp_and_internet_use_2014['Internet_Users_Pct'], \n",
    "            x=gdp_and_internet_use_2014['GDP_Per_Capita']);"
   ]
  },
  {
   "cell_type": "markdown",
   "metadata": {},
   "source": [
    "## Line Item 31\n",
    "Find the correlation between GDP per Capita and Internet Use for the year 2014. What is the meaning of this number?<br>\n",
    "Answer: Because the correlation is a positive number close to 1, this means in 2014 Internet Use % and GDP Per Capita had a strong, positive correlation."
   ]
  },
  {
   "cell_type": "code",
   "execution_count": null,
   "metadata": {},
   "outputs": [],
   "source": [
    "# Calculate correlation between GDP per Capita and Internet Use for the year 2014\n",
    "gdp_and_internet_use_2014[['GDP_Per_Capita', 'Internet_Users_Pct']].corr()"
   ]
  },
  {
   "cell_type": "markdown",
   "metadata": {},
   "source": [
    "## Line Item 32\n",
    "Add a column to `gdp_and_internet_use_2014` and calculate the logarithm of GDP per capita.<br>\n",
    "Find the correlation between the log of GDP per capita and internet users percentage.<br>\n",
    "How does this compare to the calculation in the previous part?<br>\n",
    "Answer: The log of GDP per Capita has a stronger correlation with Internet Users % than the unmodified GDP per Capita."
   ]
  },
  {
   "cell_type": "code",
   "execution_count": null,
   "metadata": {},
   "outputs": [],
   "source": [
    "# Create a new column in gdp_and_internet_use_2014 with the logarithm of GDP per capita\n",
    "gdp_and_internet_use_2014['GDP_Per_Capita_Log'] = np.log(gdp_and_internet_use_2014['GDP_Per_Capita'])\n",
    "\n",
    "# Calculate correlation between the log of GDP per capita and internet users %\n",
    "gdp_and_internet_use_2014[['GDP_Per_Capita_Log', 'Internet_Users_Pct']].corr()"
   ]
  },
  {
   "cell_type": "markdown",
   "metadata": {},
   "source": [
    "## Line Item 33\n",
    "Filter the original dataset down to just the United States for all available years.<br>\n",
    "Calculate correlation between internet use and gdp per capita. Is this meaningful or useful?<br>\n",
    "Answer: This info isn't necessarily helpful. While we do get a high correlation between the two, they both naturally increased over time with no clear signs from our data that a growth in one was caused by another. Due to us just doing an observational study we can't conclude causation between the two variables."
   ]
  },
  {
   "cell_type": "code",
   "execution_count": null,
   "metadata": {},
   "outputs": [],
   "source": [
    "# Filter United States data from gdp_and_internet_use\n",
    "gdp_and_internet_use_usa = gdp_and_internet_use[gdp_and_internet_use['Country'] == 'United States']\n",
    "print(gdp_and_internet_use_usa)\n",
    "\n",
    "# Calculate correlation between internet use and gdp per capita for the United States.\n",
    "gdp_and_internet_use_usa[['GDP_Per_Capita', 'Internet_Users_Pct']].corr()"
   ]
  }
 ],
 "metadata": {
  "kernelspec": {
   "display_name": "Python 3",
   "language": "python",
   "name": "python3"
  },
  "language_info": {
   "codemirror_mode": {
    "name": "ipython",
    "version": 3
   },
   "file_extension": ".py",
   "mimetype": "text/x-python",
   "name": "python",
   "nbconvert_exporter": "python",
   "pygments_lexer": "ipython3",
   "version": "3.8.5"
  }
 },
 "nbformat": 4,
 "nbformat_minor": 4
}
